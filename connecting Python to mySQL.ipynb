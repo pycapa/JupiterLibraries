{
 "cells": [
  {
   "cell_type": "markdown",
   "id": "dbdc89de",
   "metadata": {},
   "source": [
    "\n",
    "<center>\n",
    "        <a href=\"http://bycap.us\"><img src = \"https://s3.us-east-2.amazonaws.com/bycap.us/img/Instagram.png\" width = 100> </a>\n",
    "</center>\n",
    "<hr>\n",
    "\n",
    "# Connecting Python to MySQL\n",
    "\n",
    "## Objectives\n",
    "\n",
    "Show General Python-MySql topics:\n",
    "\n",
    "-   Connection to a MySQL Database\n"
   ]
  },
  {
   "cell_type": "code",
   "execution_count": null,
   "id": "e149b977",
   "metadata": {},
   "outputs": [],
   "source": [
    "# installing mysql-connector\n",
    "!pip install mysql-connector-python\n",
    "\n"
   ]
  },
  {
   "cell_type": "markdown",
   "id": "9cb842a5",
   "metadata": {},
   "source": [
    "## Establishing connection with MySQL\n"
   ]
  },
  {
   "cell_type": "markdown",
   "id": "380e9e00",
   "metadata": {},
   "source": [
    "<h3>Connection Parameters</h3>\n",
    "<div>\n",
    "    <table>\n",
    "        <thead>\n",
    "        <tr>\n",
    "          <th>Argument Name</th>\n",
    "          <th>Default</th>\n",
    "          <th>Description</th>\n",
    "        </tr>\n",
    "        </thead>\n",
    "        <tbody>\n",
    "            <tr>\n",
    "            <th>user (username*) </th>\n",
    "            <th> n/a </th>\n",
    "            <th>The user name used to authenticate with the MySQL server.</th>\n",
    "            </tr>\n",
    "            <tr>\n",
    "            <th>password (passwd*) </th>\n",
    "            <th> n/a </th>\n",
    "            <th>The password to authenticate the user with the MySQL server.</th>\n",
    "            </tr>\n",
    "            <tr>\n",
    "            <th>database (db*) </th>\n",
    "            <th> n/a </th>\n",
    "            <th>The database name to use when connecting with the MySQL server.</th>\n",
    "            </tr>\n",
    "            <tr>\n",
    "            <th>host</th>\n",
    "            <th>127.0.0.1 </th>\n",
    "            <th>The hostname ip address.</th>\n",
    "            </tr>\n",
    "            <tr>\n",
    "            <th>port</th>\n",
    "            <th>3306</th>\n",
    "            <th>The TCP/IP port of the MySQL server. Must be an integer.</th>\n",
    "            </tr>            \n",
    "        </tbody>\n",
    "    </table>\n",
    " </div>   \n",
    "    <p>Refer to <a href='https://dev.mysql.com/doc/connectors/en/connector-python-connectargs.html' > dev.mysql.com for more details.</a></p>\n"
   ]
  },
  {
   "cell_type": "code",
   "execution_count": null,
   "id": "c47b10ff",
   "metadata": {},
   "outputs": [],
   "source": [
    "# import library\n",
    "import mysql.connector\n",
    "params = {'user':'<your user>', \n",
    "          'database':'<your database>', \n",
    "          'password': '<yourpassword>'}\n",
    "\n",
    "try:\n",
    "    cnx = mysql.connector.connect(**params)\n",
    "    print (\"Connected to database: \", params['database'], \"as user: \", params['user'])\n",
    "\n",
    "except:\n",
    "    print (\"Unable to connect\" )\n",
    "\n",
    "    \n",
    "    "
   ]
  },
  {
   "cell_type": "markdown",
   "id": "9df74250",
   "metadata": {},
   "source": [
    "### Thank you\n",
    "\n",
    "<a href=\"http://bycap.us\" target=\"_blank\">Carlos Perez</a>\n",
    "\n",
    "## Change Log\n",
    "\n",
    "| Date (YYYY-MM-DD) | Version | Changed By | Change Description                 |\n",
    "| ----------------- | ------- | ---------- | ---------------------------------- |\n",
    "| 2021-06-30        | 1.0     | CAP        |                                    |\n",
    "\n",
    "<hr>\n",
    "\n",
    "## <h3 align=\"center\"> By Carlos Perez (bycap). All rights reserved. <h3/>"
   ]
  },
  {
   "cell_type": "code",
   "execution_count": null,
   "id": "7fcae486",
   "metadata": {},
   "outputs": [],
   "source": []
  }
 ],
 "metadata": {
  "kernelspec": {
   "display_name": "Python 3",
   "language": "python",
   "name": "python3"
  },
  "language_info": {
   "codemirror_mode": {
    "name": "ipython",
    "version": 3
   },
   "file_extension": ".py",
   "mimetype": "text/x-python",
   "name": "python",
   "nbconvert_exporter": "python",
   "pygments_lexer": "ipython3",
   "version": "3.9.5"
  }
 },
 "nbformat": 4,
 "nbformat_minor": 5
}
