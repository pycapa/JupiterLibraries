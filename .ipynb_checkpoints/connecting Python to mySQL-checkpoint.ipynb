{
 "cells": [
  {
   "cell_type": "markdown",
   "id": "8be0ae80",
   "metadata": {},
   "source": [
    "# Connecting Python to MySQL"
   ]
  },
  {
   "cell_type": "code",
   "execution_count": null,
   "id": "e149b977",
   "metadata": {},
   "outputs": [],
   "source": [
    "# installing mysql-connector\n",
    "!pip install mysql-connector-python"
   ]
  },
  {
   "cell_type": "code",
   "execution_count": null,
   "id": "3e86b4b6",
   "metadata": {},
   "outputs": [],
   "source": []
  },
  {
   "cell_type": "markdown",
   "id": "9cb842a5",
   "metadata": {},
   "source": [
    "## Establishing connection with MySQL\n"
   ]
  },
  {
   "cell_type": "markdown",
   "id": "380e9e00",
   "metadata": {},
   "source": [
    "<h3>Connection Parameters</h3>\n",
    "<div>\n",
    "    <table>\n",
    "        <thead>\n",
    "        <tr>\n",
    "          <th>Argument Name</th>\n",
    "          <th>Default</th>\n",
    "          <th>Description</th>\n",
    "        </tr>\n",
    "        </thead>\n",
    "        <tbody>\n",
    "            <tr>\n",
    "            <th>user (username*) </th>\n",
    "            <th> n/a </th>\n",
    "            <th>The user name used to authenticate with the MySQL server.</th>\n",
    "            </tr>\n",
    "            <tr>\n",
    "            <th>password (passwd*) </th>\n",
    "            <th> n/a </th>\n",
    "            <th>The password to authenticate the user with the MySQL server.</th>\n",
    "            </tr>\n",
    "            <tr>\n",
    "            <th>database (db*) </th>\n",
    "            <th> n/a </th>\n",
    "            <th>The database name to use when connecting with the MySQL server.</th>\n",
    "            </tr>\n",
    "            <tr>\n",
    "            <th>host</th>\n",
    "            <th>127.0.0.1 </th>\n",
    "            <th>The hostname ip address.</th>\n",
    "            </tr>\n",
    "            <tr>\n",
    "            <th>port</th>\n",
    "            <th>3306</th>\n",
    "            <th>The TCP/IP port of the MySQL server. Must be an integer.</th>\n",
    "            </tr>            \n",
    "        </tbody>\n",
    "    </table>\n",
    " </div>   \n",
    "    <p>Refer to <a href='https://dev.mysql.com/doc/connectors/en/connector-python-connectargs.html' > dev.mysql.com for more details.</a></p>\n"
   ]
  },
  {
   "cell_type": "code",
   "execution_count": null,
   "id": "c47b10ff",
   "metadata": {},
   "outputs": [],
   "source": [
    "# import library\n",
    "import mysql.connector\n",
    "params = {'user':'<your user>', \n",
    "          'database':'<your database>', \n",
    "          'password': '<yourpassword>'}\n",
    "\n",
    "try:\n",
    "    cnx = mysql.connector.connect(**params)\n",
    "    print (\"Connected to database: \", params['database'], \"as user: \", params['user'])\n",
    "\n",
    "except:\n",
    "    print (\"Unable to connect\" )\n",
    "\n",
    "    \n",
    "    "
   ]
  },
  {
   "cell_type": "code",
   "execution_count": null,
   "id": "feac7d6e",
   "metadata": {},
   "outputs": [],
   "source": []
  }
 ],
 "metadata": {
  "kernelspec": {
   "display_name": "Python 3",
   "language": "python",
   "name": "python3"
  },
  "language_info": {
   "codemirror_mode": {
    "name": "ipython",
    "version": 3
   },
   "file_extension": ".py",
   "mimetype": "text/x-python",
   "name": "python",
   "nbconvert_exporter": "python",
   "pygments_lexer": "ipython3",
   "version": "3.9.5"
  }
 },
 "nbformat": 4,
 "nbformat_minor": 5
}
